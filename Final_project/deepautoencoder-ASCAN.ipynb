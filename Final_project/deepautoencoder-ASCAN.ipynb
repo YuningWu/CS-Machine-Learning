{
 "cells": [
  {
   "cell_type": "code",
   "execution_count": 1,
   "metadata": {},
   "outputs": [],
   "source": [
    "import pandas as pd\n",
    "import numpy as np"
   ]
  },
  {
   "cell_type": "code",
   "execution_count": 2,
   "metadata": {},
   "outputs": [],
   "source": [
    "dataset = pd.read_csv('C:/Users/wyuning/Desktop/New folder/10TD/TD10_all.csv')\n",
    "data_setgood = pd.read_csv('C:/Users/wyuning/Desktop/New folder/10TD/TD10_pristine.csv')"
   ]
  },
  {
   "cell_type": "code",
   "execution_count": 3,
   "metadata": {},
   "outputs": [
    {
     "data": {
      "text/html": [
       "<div>\n",
       "<style scoped>\n",
       "    .dataframe tbody tr th:only-of-type {\n",
       "        vertical-align: middle;\n",
       "    }\n",
       "\n",
       "    .dataframe tbody tr th {\n",
       "        vertical-align: top;\n",
       "    }\n",
       "\n",
       "    .dataframe thead th {\n",
       "        text-align: right;\n",
       "    }\n",
       "</style>\n",
       "<table border=\"1\" class=\"dataframe\">\n",
       "  <thead>\n",
       "    <tr style=\"text-align: right;\">\n",
       "      <th></th>\n",
       "      <th>0</th>\n",
       "      <th>0.1</th>\n",
       "      <th>0.2</th>\n",
       "      <th>0.3</th>\n",
       "      <th>0.4</th>\n",
       "      <th>0.5</th>\n",
       "      <th>0.6</th>\n",
       "      <th>0.7</th>\n",
       "      <th>0.8</th>\n",
       "      <th>0.9</th>\n",
       "      <th>...</th>\n",
       "      <th>0.6491</th>\n",
       "      <th>0.6492</th>\n",
       "      <th>0.6493</th>\n",
       "      <th>0.6494</th>\n",
       "      <th>0.6495</th>\n",
       "      <th>0.6496</th>\n",
       "      <th>0.6497</th>\n",
       "      <th>0.6498</th>\n",
       "      <th>0.6499</th>\n",
       "      <th>0.6500</th>\n",
       "    </tr>\n",
       "  </thead>\n",
       "  <tbody>\n",
       "    <tr>\n",
       "      <th>0</th>\n",
       "      <td>-0.20745</td>\n",
       "      <td>-0.17110</td>\n",
       "      <td>-0.12941</td>\n",
       "      <td>-0.080759</td>\n",
       "      <td>-0.027286</td>\n",
       "      <td>0.029392</td>\n",
       "      <td>0.085521</td>\n",
       "      <td>0.13793</td>\n",
       "      <td>0.18017</td>\n",
       "      <td>0.21276</td>\n",
       "      <td>...</td>\n",
       "      <td>0.004273</td>\n",
       "      <td>0.003205</td>\n",
       "      <td>0.004792</td>\n",
       "      <td>0.007997</td>\n",
       "      <td>0.007997</td>\n",
       "      <td>0.005860</td>\n",
       "      <td>0.003724</td>\n",
       "      <td>0.001587</td>\n",
       "      <td>0.002136</td>\n",
       "      <td>0</td>\n",
       "    </tr>\n",
       "    <tr>\n",
       "      <th>1</th>\n",
       "      <td>-0.19729</td>\n",
       "      <td>-0.15773</td>\n",
       "      <td>-0.11122</td>\n",
       "      <td>-0.059883</td>\n",
       "      <td>-0.005372</td>\n",
       "      <td>0.050787</td>\n",
       "      <td>0.105300</td>\n",
       "      <td>0.15505</td>\n",
       "      <td>0.19888</td>\n",
       "      <td>0.23309</td>\n",
       "      <td>...</td>\n",
       "      <td>0.009614</td>\n",
       "      <td>0.007478</td>\n",
       "      <td>0.005341</td>\n",
       "      <td>0.003205</td>\n",
       "      <td>-0.000549</td>\n",
       "      <td>-0.000549</td>\n",
       "      <td>0.002655</td>\n",
       "      <td>0.004792</td>\n",
       "      <td>0.005341</td>\n",
       "      <td>0</td>\n",
       "    </tr>\n",
       "    <tr>\n",
       "      <th>2</th>\n",
       "      <td>-0.22403</td>\n",
       "      <td>-0.18822</td>\n",
       "      <td>-0.14278</td>\n",
       "      <td>-0.089305</td>\n",
       "      <td>-0.029423</td>\n",
       "      <td>0.029392</td>\n",
       "      <td>0.084452</td>\n",
       "      <td>0.13310</td>\n",
       "      <td>0.17534</td>\n",
       "      <td>0.21225</td>\n",
       "      <td>...</td>\n",
       "      <td>0.006410</td>\n",
       "      <td>0.009065</td>\n",
       "      <td>0.009614</td>\n",
       "      <td>0.006410</td>\n",
       "      <td>0.002136</td>\n",
       "      <td>-0.000549</td>\n",
       "      <td>0.001587</td>\n",
       "      <td>0.007478</td>\n",
       "      <td>0.011201</td>\n",
       "      <td>0</td>\n",
       "    </tr>\n",
       "    <tr>\n",
       "      <th>3</th>\n",
       "      <td>-0.19784</td>\n",
       "      <td>-0.15773</td>\n",
       "      <td>-0.10750</td>\n",
       "      <td>-0.049200</td>\n",
       "      <td>0.010133</td>\n",
       "      <td>0.070565</td>\n",
       "      <td>0.124560</td>\n",
       "      <td>0.17376</td>\n",
       "      <td>0.21276</td>\n",
       "      <td>0.24112</td>\n",
       "      <td>...</td>\n",
       "      <td>0.000000</td>\n",
       "      <td>0.000519</td>\n",
       "      <td>0.000519</td>\n",
       "      <td>-0.001618</td>\n",
       "      <td>-0.003235</td>\n",
       "      <td>-0.002167</td>\n",
       "      <td>0.003205</td>\n",
       "      <td>0.007997</td>\n",
       "      <td>0.011751</td>\n",
       "      <td>0</td>\n",
       "    </tr>\n",
       "    <tr>\n",
       "      <th>4</th>\n",
       "      <td>-0.21710</td>\n",
       "      <td>-0.18447</td>\n",
       "      <td>-0.14598</td>\n",
       "      <td>-0.097851</td>\n",
       "      <td>-0.041173</td>\n",
       "      <td>0.019228</td>\n",
       "      <td>0.078043</td>\n",
       "      <td>0.12938</td>\n",
       "      <td>0.17321</td>\n",
       "      <td>0.20904</td>\n",
       "      <td>...</td>\n",
       "      <td>-0.002167</td>\n",
       "      <td>-0.000549</td>\n",
       "      <td>0.000519</td>\n",
       "      <td>0.002655</td>\n",
       "      <td>0.004792</td>\n",
       "      <td>0.005860</td>\n",
       "      <td>0.004273</td>\n",
       "      <td>0.002136</td>\n",
       "      <td>0.002136</td>\n",
       "      <td>0</td>\n",
       "    </tr>\n",
       "  </tbody>\n",
       "</table>\n",
       "<p>5 rows × 6501 columns</p>\n",
       "</div>"
      ],
      "text/plain": [
       "         0      0.1      0.2       0.3       0.4       0.5       0.6      0.7  \\\n",
       "0 -0.20745 -0.17110 -0.12941 -0.080759 -0.027286  0.029392  0.085521  0.13793   \n",
       "1 -0.19729 -0.15773 -0.11122 -0.059883 -0.005372  0.050787  0.105300  0.15505   \n",
       "2 -0.22403 -0.18822 -0.14278 -0.089305 -0.029423  0.029392  0.084452  0.13310   \n",
       "3 -0.19784 -0.15773 -0.10750 -0.049200  0.010133  0.070565  0.124560  0.17376   \n",
       "4 -0.21710 -0.18447 -0.14598 -0.097851 -0.041173  0.019228  0.078043  0.12938   \n",
       "\n",
       "       0.8      0.9  ...    0.6491    0.6492    0.6493    0.6494    0.6495  \\\n",
       "0  0.18017  0.21276  ...  0.004273  0.003205  0.004792  0.007997  0.007997   \n",
       "1  0.19888  0.23309  ...  0.009614  0.007478  0.005341  0.003205 -0.000549   \n",
       "2  0.17534  0.21225  ...  0.006410  0.009065  0.009614  0.006410  0.002136   \n",
       "3  0.21276  0.24112  ...  0.000000  0.000519  0.000519 -0.001618 -0.003235   \n",
       "4  0.17321  0.20904  ... -0.002167 -0.000549  0.000519  0.002655  0.004792   \n",
       "\n",
       "     0.6496    0.6497    0.6498    0.6499  0.6500  \n",
       "0  0.005860  0.003724  0.001587  0.002136       0  \n",
       "1 -0.000549  0.002655  0.004792  0.005341       0  \n",
       "2 -0.000549  0.001587  0.007478  0.011201       0  \n",
       "3 -0.002167  0.003205  0.007997  0.011751       0  \n",
       "4  0.005860  0.004273  0.002136  0.002136       0  \n",
       "\n",
       "[5 rows x 6501 columns]"
      ]
     },
     "execution_count": 3,
     "metadata": {},
     "output_type": "execute_result"
    }
   ],
   "source": [
    "data_setgood.head()"
   ]
  },
  {
   "cell_type": "code",
   "execution_count": 4,
   "metadata": {},
   "outputs": [
    {
     "data": {
      "text/plain": [
       "(420, 6500)"
      ]
     },
     "execution_count": 4,
     "metadata": {},
     "output_type": "execute_result"
    }
   ],
   "source": [
    "dataset.shape"
   ]
  },
  {
   "cell_type": "code",
   "execution_count": 5,
   "metadata": {},
   "outputs": [
    {
     "data": {
      "text/plain": [
       "(280, 6501)"
      ]
     },
     "execution_count": 5,
     "metadata": {},
     "output_type": "execute_result"
    }
   ],
   "source": [
    "data_setgood.shape"
   ]
  },
  {
   "cell_type": "code",
   "execution_count": 6,
   "metadata": {},
   "outputs": [],
   "source": [
    "CLASS_NORMAL = 0\n",
    "class_names = ['Normal','weld','joint','defect']"
   ]
  },
  {
   "cell_type": "code",
   "execution_count": 7,
   "metadata": {},
   "outputs": [],
   "source": [
    "new_columns = list(data_setgood.columns)\n",
    "new_columns[-1] = 'target'\n",
    "data_setgood.columns = new_columns"
   ]
  },
  {
   "cell_type": "code",
   "execution_count": 8,
   "metadata": {},
   "outputs": [
    {
     "data": {
      "text/plain": [
       "0    280\n",
       "Name: target, dtype: int64"
      ]
     },
     "execution_count": 8,
     "metadata": {},
     "output_type": "execute_result"
    }
   ],
   "source": [
    "data_setgood.target.value_counts()"
   ]
  },
  {
   "cell_type": "code",
   "execution_count": 9,
   "metadata": {},
   "outputs": [],
   "source": [
    "np.random.seed(42)\n",
    "X = np.random.randint(280,size=280)\n",
    "normal_df = data_setgood[data_setgood.target == 0].drop(labels='target', axis=1)\n",
    "normal_df = normal_df.iloc[X]\n",
    "normal_df.shape\n",
    "inp_sig = normal_df"
   ]
  },
  {
   "cell_type": "code",
   "execution_count": 10,
   "metadata": {},
   "outputs": [],
   "source": [
    "from sklearn.model_selection import train_test_split"
   ]
  },
  {
   "cell_type": "code",
   "execution_count": 11,
   "metadata": {},
   "outputs": [],
   "source": [
    "train_df, val_df = train_test_split(\n",
    "  inp_sig,\n",
    "  test_size=0.3,\n",
    "  random_state=42\n",
    ")\n",
    "val_df, test_df = train_test_split(\n",
    "  val_df,\n",
    "  test_size=0.5,\n",
    "  random_state=42\n",
    ")"
   ]
  },
  {
   "cell_type": "code",
   "execution_count": 12,
   "metadata": {},
   "outputs": [
    {
     "name": "stdout",
     "output_type": "stream",
     "text": [
      "(196, 6500)\n",
      "(42, 6500)\n",
      "(42, 6500)\n"
     ]
    }
   ],
   "source": [
    "print(train_df.shape)\n",
    "print(val_df.shape)\n",
    "print(test_df.shape)"
   ]
  },
  {
   "cell_type": "code",
   "execution_count": 13,
   "metadata": {},
   "outputs": [
    {
     "name": "stderr",
     "output_type": "stream",
     "text": [
      "Using TensorFlow backend.\n",
      "C:\\Users\\wyuning\\anaconda3\\lib\\site-packages\\tensorflow\\python\\framework\\dtypes.py:516: FutureWarning: Passing (type, 1) or '1type' as a synonym of type is deprecated; in a future version of numpy, it will be understood as (type, (1,)) / '(1,)type'.\n",
      "  _np_qint8 = np.dtype([(\"qint8\", np.int8, 1)])\n",
      "C:\\Users\\wyuning\\anaconda3\\lib\\site-packages\\tensorflow\\python\\framework\\dtypes.py:517: FutureWarning: Passing (type, 1) or '1type' as a synonym of type is deprecated; in a future version of numpy, it will be understood as (type, (1,)) / '(1,)type'.\n",
      "  _np_quint8 = np.dtype([(\"quint8\", np.uint8, 1)])\n",
      "C:\\Users\\wyuning\\anaconda3\\lib\\site-packages\\tensorflow\\python\\framework\\dtypes.py:518: FutureWarning: Passing (type, 1) or '1type' as a synonym of type is deprecated; in a future version of numpy, it will be understood as (type, (1,)) / '(1,)type'.\n",
      "  _np_qint16 = np.dtype([(\"qint16\", np.int16, 1)])\n",
      "C:\\Users\\wyuning\\anaconda3\\lib\\site-packages\\tensorflow\\python\\framework\\dtypes.py:519: FutureWarning: Passing (type, 1) or '1type' as a synonym of type is deprecated; in a future version of numpy, it will be understood as (type, (1,)) / '(1,)type'.\n",
      "  _np_quint16 = np.dtype([(\"quint16\", np.uint16, 1)])\n",
      "C:\\Users\\wyuning\\anaconda3\\lib\\site-packages\\tensorflow\\python\\framework\\dtypes.py:520: FutureWarning: Passing (type, 1) or '1type' as a synonym of type is deprecated; in a future version of numpy, it will be understood as (type, (1,)) / '(1,)type'.\n",
      "  _np_qint32 = np.dtype([(\"qint32\", np.int32, 1)])\n",
      "C:\\Users\\wyuning\\anaconda3\\lib\\site-packages\\tensorflow\\python\\framework\\dtypes.py:525: FutureWarning: Passing (type, 1) or '1type' as a synonym of type is deprecated; in a future version of numpy, it will be understood as (type, (1,)) / '(1,)type'.\n",
      "  np_resource = np.dtype([(\"resource\", np.ubyte, 1)])\n",
      "C:\\Users\\wyuning\\anaconda3\\lib\\site-packages\\tensorboard\\compat\\tensorflow_stub\\dtypes.py:541: FutureWarning: Passing (type, 1) or '1type' as a synonym of type is deprecated; in a future version of numpy, it will be understood as (type, (1,)) / '(1,)type'.\n",
      "  _np_qint8 = np.dtype([(\"qint8\", np.int8, 1)])\n",
      "C:\\Users\\wyuning\\anaconda3\\lib\\site-packages\\tensorboard\\compat\\tensorflow_stub\\dtypes.py:542: FutureWarning: Passing (type, 1) or '1type' as a synonym of type is deprecated; in a future version of numpy, it will be understood as (type, (1,)) / '(1,)type'.\n",
      "  _np_quint8 = np.dtype([(\"quint8\", np.uint8, 1)])\n",
      "C:\\Users\\wyuning\\anaconda3\\lib\\site-packages\\tensorboard\\compat\\tensorflow_stub\\dtypes.py:543: FutureWarning: Passing (type, 1) or '1type' as a synonym of type is deprecated; in a future version of numpy, it will be understood as (type, (1,)) / '(1,)type'.\n",
      "  _np_qint16 = np.dtype([(\"qint16\", np.int16, 1)])\n",
      "C:\\Users\\wyuning\\anaconda3\\lib\\site-packages\\tensorboard\\compat\\tensorflow_stub\\dtypes.py:544: FutureWarning: Passing (type, 1) or '1type' as a synonym of type is deprecated; in a future version of numpy, it will be understood as (type, (1,)) / '(1,)type'.\n",
      "  _np_quint16 = np.dtype([(\"quint16\", np.uint16, 1)])\n",
      "C:\\Users\\wyuning\\anaconda3\\lib\\site-packages\\tensorboard\\compat\\tensorflow_stub\\dtypes.py:545: FutureWarning: Passing (type, 1) or '1type' as a synonym of type is deprecated; in a future version of numpy, it will be understood as (type, (1,)) / '(1,)type'.\n",
      "  _np_qint32 = np.dtype([(\"qint32\", np.int32, 1)])\n",
      "C:\\Users\\wyuning\\anaconda3\\lib\\site-packages\\tensorboard\\compat\\tensorflow_stub\\dtypes.py:550: FutureWarning: Passing (type, 1) or '1type' as a synonym of type is deprecated; in a future version of numpy, it will be understood as (type, (1,)) / '(1,)type'.\n",
      "  np_resource = np.dtype([(\"resource\", np.ubyte, 1)])\n"
     ]
    }
   ],
   "source": [
    "import keras\n",
    "from keras import layers"
   ]
  },
  {
   "cell_type": "code",
   "execution_count": 14,
   "metadata": {},
   "outputs": [],
   "source": [
    "input_sig = keras.Input(shape=(6500,))\n",
    "encoded = layers.Dense(4000, activation='relu')(input_sig)\n",
    "encoded = layers.Dense(2000, activation='relu')(encoded)\n",
    "encoded = layers.Dense(500, activation='relu')(encoded)\n",
    "encoded = layers.Dense(2, activation='relu')(encoded)\n",
    "decoded = layers.Dense(500, activation='relu')(encoded)\n",
    "decoded = layers.Dense(2000, activation='relu')(decoded)\n",
    "decoded = layers.Dense(4000, activation='relu')(decoded)\n",
    "decoded = layers.Dense(6500, activation='linear')(decoded)"
   ]
  },
  {
   "cell_type": "code",
   "execution_count": 15,
   "metadata": {},
   "outputs": [
    {
     "name": "stdout",
     "output_type": "stream",
     "text": [
      "Model: \"model_1\"\n",
      "_________________________________________________________________\n",
      "Layer (type)                 Output Shape              Param #   \n",
      "=================================================================\n",
      "input_1 (InputLayer)         (None, 6500)              0         \n",
      "_________________________________________________________________\n",
      "dense_1 (Dense)              (None, 4000)              26004000  \n",
      "_________________________________________________________________\n",
      "dense_2 (Dense)              (None, 2000)              8002000   \n",
      "_________________________________________________________________\n",
      "dense_3 (Dense)              (None, 500)               1000500   \n",
      "_________________________________________________________________\n",
      "dense_4 (Dense)              (None, 2)                 1002      \n",
      "_________________________________________________________________\n",
      "dense_5 (Dense)              (None, 500)               1500      \n",
      "_________________________________________________________________\n",
      "dense_6 (Dense)              (None, 2000)              1002000   \n",
      "_________________________________________________________________\n",
      "dense_7 (Dense)              (None, 4000)              8004000   \n",
      "_________________________________________________________________\n",
      "dense_8 (Dense)              (None, 6500)              26006500  \n",
      "=================================================================\n",
      "Total params: 70,021,502\n",
      "Trainable params: 70,021,502\n",
      "Non-trainable params: 0\n",
      "_________________________________________________________________\n"
     ]
    }
   ],
   "source": [
    "autoencoder = keras.Model(input_sig, decoded)\n",
    "autoencoder.compile(optimizer='adam', loss='mae')\n",
    "autoencoder.summary()"
   ]
  },
  {
   "cell_type": "code",
   "execution_count": null,
   "metadata": {},
   "outputs": [
    {
     "name": "stdout",
     "output_type": "stream",
     "text": [
      "WARNING:tensorflow:From C:\\Users\\wyuning\\anaconda3\\lib\\site-packages\\keras\\backend\\tensorflow_backend.py:422: The name tf.global_variables is deprecated. Please use tf.compat.v1.global_variables instead.\n",
      "\n",
      "Train on 196 samples, validate on 42 samples\n",
      "Epoch 1/100\n",
      "196/196 [==============================] - 1s 6ms/step - loss: 0.0148 - val_loss: 0.0137\n",
      "Epoch 2/100\n",
      "196/196 [==============================] - 1s 5ms/step - loss: 0.0139 - val_loss: 0.0129\n",
      "Epoch 3/100\n",
      "196/196 [==============================] - 1s 5ms/step - loss: 0.0131 - val_loss: 0.0121\n",
      "Epoch 4/100\n",
      "196/196 [==============================] - 1s 6ms/step - loss: 0.0122 - val_loss: 0.0110\n",
      "Epoch 5/100\n",
      "196/196 [==============================] - 1s 6ms/step - loss: 0.0110 - val_loss: 0.0099\n",
      "Epoch 6/100\n",
      "196/196 [==============================] - 1s 6ms/step - loss: 0.0102 - val_loss: 0.0094\n",
      "Epoch 7/100\n",
      "196/196 [==============================] - 1s 6ms/step - loss: 0.0096 - val_loss: 0.0087\n",
      "Epoch 8/100\n",
      "196/196 [==============================] - 1s 6ms/step - loss: 0.0090 - val_loss: 0.0085\n",
      "Epoch 9/100\n",
      "196/196 [==============================] - 1s 6ms/step - loss: 0.0089 - val_loss: 0.0084\n",
      "Epoch 10/100\n",
      "196/196 [==============================] - 1s 6ms/step - loss: 0.0088 - val_loss: 0.0083\n",
      "Epoch 11/100\n",
      "196/196 [==============================] - 1s 6ms/step - loss: 0.0086 - val_loss: 0.0082\n",
      "Epoch 12/100\n",
      "196/196 [==============================] - 1s 6ms/step - loss: 0.0085 - val_loss: 0.0081\n",
      "Epoch 13/100\n",
      "196/196 [==============================] - 1s 6ms/step - loss: 0.0085 - val_loss: 0.0081\n",
      "Epoch 14/100\n",
      "196/196 [==============================] - 1s 6ms/step - loss: 0.0084 - val_loss: 0.0081\n",
      "Epoch 15/100\n",
      "196/196 [==============================] - 1s 5ms/step - loss: 0.0084 - val_loss: 0.0080\n",
      "Epoch 16/100\n",
      "196/196 [==============================] - 1s 6ms/step - loss: 0.0084 - val_loss: 0.0080\n",
      "Epoch 17/100\n",
      "196/196 [==============================] - 1s 6ms/step - loss: 0.0084 - val_loss: 0.0080\n",
      "Epoch 18/100\n",
      "196/196 [==============================] - 1s 6ms/step - loss: 0.0084 - val_loss: 0.0080\n",
      "Epoch 19/100\n",
      "196/196 [==============================] - 1s 6ms/step - loss: 0.0084 - val_loss: 0.0080\n",
      "Epoch 20/100\n",
      "196/196 [==============================] - 1s 6ms/step - loss: 0.0083 - val_loss: 0.0080\n",
      "Epoch 21/100\n",
      "196/196 [==============================] - 1s 6ms/step - loss: 0.0083 - val_loss: 0.0080\n",
      "Epoch 22/100\n",
      "196/196 [==============================] - 1s 5ms/step - loss: 0.0083 - val_loss: 0.0080\n",
      "Epoch 23/100\n",
      "196/196 [==============================] - 1s 6ms/step - loss: 0.0083 - val_loss: 0.0080\n",
      "Epoch 24/100\n",
      "196/196 [==============================] - 1s 6ms/step - loss: 0.0083 - val_loss: 0.0080\n",
      "Epoch 25/100\n",
      "196/196 [==============================] - 1s 6ms/step - loss: 0.0083 - val_loss: 0.0080\n",
      "Epoch 26/100\n",
      "196/196 [==============================] - 1s 6ms/step - loss: 0.0083 - val_loss: 0.0080\n",
      "Epoch 27/100\n",
      "196/196 [==============================] - 1s 6ms/step - loss: 0.0083 - val_loss: 0.0080\n",
      "Epoch 28/100\n",
      "196/196 [==============================] - 1s 6ms/step - loss: 0.0083 - val_loss: 0.0080\n",
      "Epoch 29/100\n",
      "196/196 [==============================] - 1s 6ms/step - loss: 0.0083 - val_loss: 0.0080\n",
      "Epoch 30/100\n",
      "196/196 [==============================] - 1s 6ms/step - loss: 0.0083 - val_loss: 0.0080\n",
      "Epoch 31/100\n",
      "196/196 [==============================] - 1s 6ms/step - loss: 0.0083 - val_loss: 0.0080\n",
      "Epoch 32/100\n",
      "196/196 [==============================] - 1s 5ms/step - loss: 0.0083 - val_loss: 0.0080\n",
      "Epoch 33/100\n",
      "196/196 [==============================] - 1s 6ms/step - loss: 0.0083 - val_loss: 0.0080\n",
      "Epoch 34/100\n",
      "196/196 [==============================] - 1s 6ms/step - loss: 0.0083 - val_loss: 0.0079\n",
      "Epoch 35/100\n",
      "196/196 [==============================] - 1s 6ms/step - loss: 0.0083 - val_loss: 0.0080\n",
      "Epoch 36/100\n",
      "196/196 [==============================] - 1s 6ms/step - loss: 0.0083 - val_loss: 0.0079\n",
      "Epoch 37/100\n",
      "196/196 [==============================] - 1s 6ms/step - loss: 0.0083 - val_loss: 0.0079\n",
      "Epoch 38/100\n",
      "196/196 [==============================] - 1s 6ms/step - loss: 0.0083 - val_loss: 0.0080\n",
      "Epoch 39/100\n",
      "196/196 [==============================] - 1s 6ms/step - loss: 0.0083 - val_loss: 0.0080\n",
      "Epoch 40/100\n",
      "196/196 [==============================] - 1s 6ms/step - loss: 0.0083 - val_loss: 0.0079\n",
      "Epoch 41/100\n",
      "196/196 [==============================] - 1s 6ms/step - loss: 0.0083 - val_loss: 0.0079\n",
      "Epoch 42/100\n",
      "196/196 [==============================] - 1s 6ms/step - loss: 0.0083 - val_loss: 0.0080\n",
      "Epoch 43/100\n",
      "196/196 [==============================] - 1s 6ms/step - loss: 0.0083 - val_loss: 0.0080\n",
      "Epoch 44/100\n",
      "196/196 [==============================] - 1s 6ms/step - loss: 0.0083 - val_loss: 0.0080\n",
      "Epoch 45/100\n",
      "196/196 [==============================] - 1s 6ms/step - loss: 0.0083 - val_loss: 0.0079\n",
      "Epoch 46/100\n",
      "196/196 [==============================] - 1s 6ms/step - loss: 0.0083 - val_loss: 0.0079\n",
      "Epoch 47/100\n",
      "196/196 [==============================] - 1s 6ms/step - loss: 0.0083 - val_loss: 0.0079\n",
      "Epoch 48/100\n",
      "196/196 [==============================] - 1s 6ms/step - loss: 0.0083 - val_loss: 0.0080\n",
      "Epoch 49/100\n",
      "196/196 [==============================] - 1s 6ms/step - loss: 0.0083 - val_loss: 0.0080\n",
      "Epoch 50/100\n",
      "196/196 [==============================] - 1s 6ms/step - loss: 0.0083 - val_loss: 0.0079\n",
      "Epoch 51/100\n",
      "196/196 [==============================] - 1s 6ms/step - loss: 0.0083 - val_loss: 0.0079\n",
      "Epoch 52/100\n",
      "196/196 [==============================] - 1s 6ms/step - loss: 0.0083 - val_loss: 0.0080\n",
      "Epoch 53/100\n",
      "196/196 [==============================] - 1s 6ms/step - loss: 0.0083 - val_loss: 0.0080\n",
      "Epoch 54/100\n",
      "196/196 [==============================] - 1s 6ms/step - loss: 0.0083 - val_loss: 0.0079\n",
      "Epoch 55/100\n",
      "196/196 [==============================] - 1s 6ms/step - loss: 0.0083 - val_loss: 0.0079\n",
      "Epoch 56/100\n",
      "196/196 [==============================] - 1s 6ms/step - loss: 0.0083 - val_loss: 0.0080\n",
      "Epoch 57/100\n",
      "196/196 [==============================] - 1s 6ms/step - loss: 0.0083 - val_loss: 0.0080\n",
      "Epoch 58/100\n",
      "196/196 [==============================] - 1s 6ms/step - loss: 0.0083 - val_loss: 0.0079\n",
      "Epoch 59/100\n",
      "196/196 [==============================] - 1s 6ms/step - loss: 0.0083 - val_loss: 0.0080\n",
      "Epoch 60/100\n",
      "196/196 [==============================] - 1s 6ms/step - loss: 0.0083 - val_loss: 0.0080\n",
      "Epoch 61/100\n",
      "196/196 [==============================] - 1s 6ms/step - loss: 0.0083 - val_loss: 0.0080\n",
      "Epoch 62/100\n",
      "196/196 [==============================] - 1s 6ms/step - loss: 0.0083 - val_loss: 0.0080\n",
      "Epoch 63/100\n",
      "196/196 [==============================] - 1s 5ms/step - loss: 0.0083 - val_loss: 0.0079\n",
      "Epoch 64/100\n",
      "196/196 [==============================] - 1s 6ms/step - loss: 0.0083 - val_loss: 0.0079\n",
      "Epoch 65/100\n",
      "196/196 [==============================] - 1s 5ms/step - loss: 0.0083 - val_loss: 0.0080\n",
      "Epoch 66/100\n",
      "196/196 [==============================] - 1s 6ms/step - loss: 0.0083 - val_loss: 0.0080\n",
      "Epoch 67/100\n",
      "196/196 [==============================] - 1s 6ms/step - loss: 0.0083 - val_loss: 0.0079\n",
      "Epoch 68/100\n",
      "196/196 [==============================] - 1s 6ms/step - loss: 0.0083 - val_loss: 0.0079\n",
      "Epoch 69/100\n",
      "196/196 [==============================] - 1s 6ms/step - loss: 0.0083 - val_loss: 0.0080\n",
      "Epoch 70/100\n",
      "196/196 [==============================] - 1s 6ms/step - loss: 0.0083 - val_loss: 0.0080\n",
      "Epoch 71/100\n",
      "196/196 [==============================] - 1s 6ms/step - loss: 0.0083 - val_loss: 0.0080\n",
      "Epoch 72/100\n",
      "196/196 [==============================] - 1s 6ms/step - loss: 0.0083 - val_loss: 0.0079\n",
      "Epoch 73/100\n",
      "196/196 [==============================] - 1s 6ms/step - loss: 0.0083 - val_loss: 0.0080\n",
      "Epoch 74/100\n",
      "196/196 [==============================] - 1s 6ms/step - loss: 0.0083 - val_loss: 0.0080\n",
      "Epoch 75/100\n",
      "196/196 [==============================] - 1s 6ms/step - loss: 0.0083 - val_loss: 0.0079\n",
      "Epoch 76/100\n",
      "196/196 [==============================] - 1s 6ms/step - loss: 0.0083 - val_loss: 0.0080\n",
      "Epoch 77/100\n",
      "100/196 [==============>...............] - ETA: 0s - loss: 0.0082"
     ]
    }
   ],
   "source": [
    "history=autoencoder.fit(train_df, train_df,\n",
    "                epochs=100,\n",
    "                batch_size=100,\n",
    "                shuffle=True,\n",
    "                validation_data=(val_df, val_df))"
   ]
  },
  {
   "cell_type": "code",
   "execution_count": 82,
   "metadata": {},
   "outputs": [],
   "source": [
    "decoded_sigs = autoencoder.predict(dataset)\n"
   ]
  },
  {
   "cell_type": "code",
   "execution_count": 83,
   "metadata": {},
   "outputs": [],
   "source": [
    "decoded_sigs = pd.DataFrame(decoded_sigs) \n",
    "decoded_sigs.to_csv('decoded_sigs_td10.csv')"
   ]
  },
  {
   "cell_type": "code",
   "execution_count": 84,
   "metadata": {},
   "outputs": [],
   "source": [
    "encoder = keras.Model(input_sig, encoded)"
   ]
  },
  {
   "cell_type": "code",
   "execution_count": 85,
   "metadata": {},
   "outputs": [
    {
     "name": "stdout",
     "output_type": "stream",
     "text": [
      "Model: \"model_6\"\n",
      "_________________________________________________________________\n",
      "Layer (type)                 Output Shape              Param #   \n",
      "=================================================================\n",
      "input_5 (InputLayer)         (None, 6500)              0         \n",
      "_________________________________________________________________\n",
      "dense_33 (Dense)             (None, 4000)              26004000  \n",
      "_________________________________________________________________\n",
      "dense_34 (Dense)             (None, 2000)              8002000   \n",
      "_________________________________________________________________\n",
      "dense_35 (Dense)             (None, 1000)              2001000   \n",
      "_________________________________________________________________\n",
      "dense_36 (Dense)             (None, 500)               500500    \n",
      "=================================================================\n",
      "Total params: 36,507,500\n",
      "Trainable params: 36,507,500\n",
      "Non-trainable params: 0\n",
      "_________________________________________________________________\n"
     ]
    }
   ],
   "source": [
    "encoder.summary()"
   ]
  },
  {
   "cell_type": "code",
   "execution_count": 86,
   "metadata": {},
   "outputs": [],
   "source": [
    "encoded_imgs = encoder.predict(dataset)"
   ]
  },
  {
   "cell_type": "code",
   "execution_count": 87,
   "metadata": {},
   "outputs": [],
   "source": [
    "encoded_imgs = pd.DataFrame(encoded_imgs) \n",
    "encoded_imgs.to_csv('latentent_td30.csv')"
   ]
  },
  {
   "cell_type": "code",
   "execution_count": null,
   "metadata": {},
   "outputs": [],
   "source": [
    "import matplotlib.pyplot as plt"
   ]
  },
  {
   "cell_type": "code",
   "execution_count": 168,
   "metadata": {},
   "outputs": [
    {
     "name": "stdout",
     "output_type": "stream",
     "text": [
      "dict_keys(['val_loss', 'loss'])\n"
     ]
    }
   ],
   "source": [
    "print(history.history.keys())"
   ]
  },
  {
   "cell_type": "code",
   "execution_count": 169,
   "metadata": {},
   "outputs": [
    {
     "data": {
      "image/png": "[encoded data removed]",
      "text/plain": [
       "<Figure size 432x288 with 1 Axes>"
      ]
     },
     "metadata": {
      "needs_background": "light"
     },
     "output_type": "display_data"
    }
   ],
   "source": [
    "plt.plot(history.history['loss'])\n",
    "plt.plot(history.history['val_loss'])\n",
    "plt.title('model loss')\n",
    "plt.ylabel('loss')\n",
    "plt.xlabel('epoch')\n",
    "plt.legend(['train', 'test'], loc='upper left')\n",
    "plt.show()"
   ]
  },
  {
   "cell_type": "code",
   "execution_count": null,
   "metadata": {},
   "outputs": [],
   "source": []
  }
 ],
 "metadata": {
  "kernelspec": {
   "display_name": "Python 3",
   "language": "python",
   "name": "python3"
  },
  "language_info": {
   "codemirror_mode": {
    "name": "ipython",
    "version": 3
   },
   "file_extension": ".py",
   "mimetype": "text/x-python",
   "name": "python",
   "nbconvert_exporter": "python",
   "pygments_lexer": "ipython3",
   "version": "3.8.5"
  }
 },
 "nbformat": 4,
 "nbformat_minor": 4
}
